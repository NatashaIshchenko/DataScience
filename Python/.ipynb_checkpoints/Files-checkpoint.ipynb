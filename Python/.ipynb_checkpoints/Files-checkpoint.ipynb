{
 "cells": [
  {
   "cell_type": "markdown",
   "metadata": {},
   "source": [
    "Режимы открытия файла:\n",
    "    \n",
    "r (read) \n",
    "\n",
    "w (write)\n",
    "\n",
    "a (append)\n",
    "\n",
    "b (binary)\n",
    "\n",
    "t (text)\n",
    "\n",
    "r+ Открыть для чтения и записи\n",
    "\n",
    "w+ открыть для чтения и записи, содержимое стирается"
   ]
  },
  {
   "cell_type": "code",
   "execution_count": 43,
   "metadata": {},
   "outputs": [
    {
     "name": "stdout",
     "output_type": "stream",
     "text": [
      "strok\n",
      "-\n",
      "a 1\n",
      "stroka 2\n",
      "stroka 3\n"
     ]
    }
   ],
   "source": [
    "# чтение из файла\n",
    "\n",
    "file1 = open('test_file1.txt', 'r')\n",
    "print(file1.read(5)) # считает первые 5 символов\n",
    "print(\"-\")\n",
    "print(file1.read()) # считает весь файл с текущей позиции\n",
    "file1.close()"
   ]
  },
  {
   "cell_type": "code",
   "execution_count": 44,
   "metadata": {},
   "outputs": [
    {
     "name": "stdout",
     "output_type": "stream",
     "text": [
      "stroka 1\n",
      "\n",
      "stroka 2\n"
     ]
    }
   ],
   "source": [
    "# чтение из файла построчно\n",
    "\n",
    "file1 = open('test_file1.txt', 'r') # открытие файла на чтение\n",
    "str1 = file1.readline() # чтение одной строки\n",
    "print(str1)\n",
    "str2 = file1.readline().strip() # strip() - убирает служебные символы, при чтении строки\n",
    "print(str2)\n",
    "file1.close() # закрытие файла (обязательно)"
   ]
  },
  {
   "cell_type": "code",
   "execution_count": 45,
   "metadata": {},
   "outputs": [
    {
     "name": "stdout",
     "output_type": "stream",
     "text": [
      "'stroka 1\\nstroka 2\\nstroka 3'\n"
     ]
    }
   ],
   "source": [
    "# чтение из файла всего со спец символами\n",
    "\n",
    "file1 = open('test_file1.txt', 'r')\n",
    "x = file1.read()\n",
    "print(repr(x))\n",
    "file1.close()"
   ]
  },
  {
   "cell_type": "code",
   "execution_count": 47,
   "metadata": {},
   "outputs": [
    {
     "name": "stdout",
     "output_type": "stream",
     "text": [
      "['stroka 1', 'stroka 2', 'stroka 3']\n"
     ]
    }
   ],
   "source": [
    "# чтение из файла с разбиением на строки\n",
    "\n",
    "file1 = open('test_file1.txt', 'r')\n",
    "x = file1.read()\n",
    "print(x.splitlines())\n",
    "file1.close()"
   ]
  },
  {
   "cell_type": "code",
   "execution_count": 55,
   "metadata": {},
   "outputs": [
    {
     "name": "stdout",
     "output_type": "stream",
     "text": [
      "'stroka 1'\n",
      "'stroka 2'\n",
      "'stroka 3'\n"
     ]
    }
   ],
   "source": [
    "# проход по всему файлу\n",
    "\n",
    "file1 = open('test_file1.txt', 'r')\n",
    "for line in file1:\n",
    "    print(repr(line.rstrip()))\n",
    "file1.close()"
   ]
  },
  {
   "cell_type": "code",
   "execution_count": 56,
   "metadata": {},
   "outputs": [
    {
     "name": "stdout",
     "output_type": "stream",
     "text": [
      "stroka 1\n",
      "\n",
      "stroka 2\n",
      "\n",
      "stroka 3\n"
     ]
    }
   ],
   "source": [
    "# проход по всему файлу\n",
    "\n",
    "# команда with сама закрывает файл\n",
    "with open('test_file1.txt', 'r') as file2:\n",
    "    for line in file2:\n",
    "        print(line)"
   ]
  },
  {
   "cell_type": "code",
   "execution_count": 30,
   "metadata": {},
   "outputs": [],
   "source": [
    "# позволяет указывать абсолютный путь\n",
    "\n",
    "# import os\n",
    "# os.path.join('.','dirname', 'filename.txt')"
   ]
  },
  {
   "cell_type": "code",
   "execution_count": 57,
   "metadata": {},
   "outputs": [],
   "source": [
    "# запись в файл\n",
    "# после переоткрытия файла на запись, команда write затирает старые данные\n",
    "\n",
    "file3 = open('test_file1.txt', 'w')\n",
    "file3.write('some text 1 \\n')\n",
    "file3.write('some text 2')\n",
    "file3.write('some text 3 \\n')\n",
    "file3.close()"
   ]
  },
  {
   "cell_type": "code",
   "execution_count": 58,
   "metadata": {},
   "outputs": [],
   "source": [
    "# запись в файл\n",
    "\n",
    "file3 = open('test_file1.txt', 'w')\n",
    "list1 = ['test 1', 'text2', 'text3']\n",
    "content = \"\\n\".join(list1)\n",
    "file3.write(content)\n",
    "file3.close()"
   ]
  },
  {
   "cell_type": "code",
   "execution_count": 34,
   "metadata": {},
   "outputs": [],
   "source": [
    "# команда with сама закрывает файл\n",
    "with open('test_file1.txt', 'w') as file4:\n",
    "    file4.write('some text 4 \\n')\n",
    "    file4.write(str(25))    "
   ]
  },
  {
   "cell_type": "code",
   "execution_count": 59,
   "metadata": {},
   "outputs": [],
   "source": [
    "# перенос данных из одного файла в другой\n",
    "with open('test_file1.txt', 'r') as file1, open('test_file2.txt', 'w') as file2:\n",
    "    for line in file1:\n",
    "        file2.write(line)"
   ]
  },
  {
   "cell_type": "markdown",
   "metadata": {},
   "source": [
    "== OS library == "
   ]
  },
  {
   "cell_type": "code",
   "execution_count": 62,
   "metadata": {},
   "outputs": [],
   "source": [
    "import os\n",
    "import os.path"
   ]
  },
  {
   "cell_type": "code",
   "execution_count": 67,
   "metadata": {},
   "outputs": [
    {
     "data": {
      "text/plain": [
       "'C:\\\\Users\\\\Natasha\\\\DataScienceCourse\\\\Spravochnik\\\\Python'"
      ]
     },
     "execution_count": 67,
     "metadata": {},
     "output_type": "execute_result"
    }
   ],
   "source": [
    "# возвращает путь к текущей директории\n",
    "os.getcwd()"
   ]
  },
  {
   "cell_type": "code",
   "execution_count": 81,
   "metadata": {},
   "outputs": [
    {
     "data": {
      "text/plain": [
       "'C:\\\\Users\\\\Natasha\\\\DataScienceCourse\\\\Spravochnik\\\\Python\\\\Python_part1.ipynb'"
      ]
     },
     "execution_count": 81,
     "metadata": {},
     "output_type": "execute_result"
    }
   ],
   "source": [
    "os.path.abspath(\"Python_part1.ipynb\")"
   ]
  },
  {
   "cell_type": "code",
   "execution_count": 73,
   "metadata": {},
   "outputs": [
    {
     "name": "stdout",
     "output_type": "stream",
     "text": [
      "['.ipynb_checkpoints', 'Files.ipynb', 'Python_part1.ipynb', 'Python_part2.ipynb', 'Python_part3.ipynb', 'Requests.ipynb', 'test_file1.txt', 'test_file2.txt']\n"
     ]
    }
   ],
   "source": [
    "# возвращает папки/файлы текущей директории\n",
    "print(os.listdir())"
   ]
  },
  {
   "cell_type": "code",
   "execution_count": 79,
   "metadata": {},
   "outputs": [
    {
     "name": "stdout",
     "output_type": "stream",
     "text": [
      "True\n",
      "False\n",
      "True\n",
      "True\n",
      "True\n"
     ]
    }
   ],
   "source": [
    "print(os.path.exists(\"Python_part1.ipynb\"))\n",
    "print(os.path.exists(\"nofile.ipynb\"))\n",
    "print(os.path.exists(\".ipynb_checkpoints\"))\n",
    "print(os.path.isfile(\"Python_part1.ipynb\"))\n",
    "print(os.path.isdir(\".ipynb_checkpoints\"))"
   ]
  },
  {
   "cell_type": "code",
   "execution_count": null,
   "metadata": {},
   "outputs": [],
   "source": []
  },
  {
   "cell_type": "code",
   "execution_count": null,
   "metadata": {},
   "outputs": [],
   "source": []
  },
  {
   "cell_type": "code",
   "execution_count": null,
   "metadata": {},
   "outputs": [],
   "source": []
  },
  {
   "cell_type": "code",
   "execution_count": null,
   "metadata": {},
   "outputs": [],
   "source": []
  },
  {
   "cell_type": "code",
   "execution_count": null,
   "metadata": {},
   "outputs": [],
   "source": []
  },
  {
   "cell_type": "code",
   "execution_count": null,
   "metadata": {},
   "outputs": [],
   "source": []
  },
  {
   "cell_type": "code",
   "execution_count": null,
   "metadata": {},
   "outputs": [],
   "source": []
  },
  {
   "cell_type": "code",
   "execution_count": null,
   "metadata": {},
   "outputs": [],
   "source": []
  }
 ],
 "metadata": {
  "kernelspec": {
   "display_name": "Python 3",
   "language": "python",
   "name": "python3"
  },
  "language_info": {
   "codemirror_mode": {
    "name": "ipython",
    "version": 3
   },
   "file_extension": ".py",
   "mimetype": "text/x-python",
   "name": "python",
   "nbconvert_exporter": "python",
   "pygments_lexer": "ipython3",
   "version": "3.6.5"
  }
 },
 "nbformat": 4,
 "nbformat_minor": 2
}
