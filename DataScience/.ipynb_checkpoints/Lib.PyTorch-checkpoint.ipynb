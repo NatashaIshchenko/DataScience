{
 "cells": [
  {
   "cell_type": "code",
   "execution_count": 93,
   "metadata": {},
   "outputs": [],
   "source": [
    "import torch"
   ]
  },
  {
   "cell_type": "code",
   "execution_count": 94,
   "metadata": {},
   "outputs": [
    {
     "name": "stdout",
     "output_type": "stream",
     "text": [
      "tensor([2.]) <class 'torch.Tensor'> False\n",
      "tensor([10.]) <class 'torch.Tensor'> False\n"
     ]
    }
   ],
   "source": [
    "x = torch.tensor([2.])\n",
    "y = torch.tensor([10.])\n",
    "print(x, type(x), x.requires_grad)\n",
    "print(y, type(y), y.requires_grad)"
   ]
  },
  {
   "cell_type": "code",
   "execution_count": 95,
   "metadata": {},
   "outputs": [
    {
     "name": "stdout",
     "output_type": "stream",
     "text": [
      "tensor([1.], requires_grad=True) <class 'torch.Tensor'> True\n",
      "tensor([3.], requires_grad=True) <class 'torch.Tensor'> True\n"
     ]
    }
   ],
   "source": [
    "k = torch.tensor([1.], requires_grad=True)\n",
    "b = torch.tensor([3.], requires_grad=True)\n",
    "print(k, type(k), k.requires_grad)\n",
    "print(b, type(b), b.requires_grad)"
   ]
  },
  {
   "cell_type": "code",
   "execution_count": 96,
   "metadata": {},
   "outputs": [
    {
     "name": "stdout",
     "output_type": "stream",
     "text": [
      "tensor([5.], grad_fn=<ThAddBackward>) <class 'torch.Tensor'> True\n"
     ]
    }
   ],
   "source": [
    "y_ = k*x + b\n",
    "print(y_, type(y_), y_.requires_grad)"
   ]
  },
  {
   "cell_type": "code",
   "execution_count": 97,
   "metadata": {},
   "outputs": [
    {
     "name": "stdout",
     "output_type": "stream",
     "text": [
      "tensor([25.], grad_fn=<PowBackward0>) <class 'torch.Tensor'> True\n"
     ]
    }
   ],
   "source": [
    "loss = (y - y_)**2\n",
    "print(loss, type(loss), loss.requires_grad)"
   ]
  },
  {
   "cell_type": "code",
   "execution_count": 99,
   "metadata": {},
   "outputs": [],
   "source": [
    "# посчитает частные производные по всем переменным функции loss, у которых requires_grad=True\n",
    "loss.backward()\n",
    "# в соответствующие частные производные подставит известные значения y, x, k, b\n",
    "\n",
    "print(k.grad)\n",
    "print(b.grad)\n",
    "optimazer = torch.optim.SGD([k,b,], lr = 0.1)\n",
    "# k = k + k.grad*lr\n",
    "# b = b + b.grad*lr\n",
    "\n",
    "optimazer.step()\n",
    "print(k)\n",
    "print(b)"
   ]
  },
  {
   "cell_type": "code",
   "execution_count": 103,
   "metadata": {},
   "outputs": [
    {
     "name": "stdout",
     "output_type": "stream",
     "text": [
      "tensor([3.], requires_grad=True)\n",
      "tensor([4.], requires_grad=True)\n"
     ]
    }
   ],
   "source": [
    "print(k)\n",
    "print(b)"
   ]
  },
  {
   "cell_type": "code",
   "execution_count": 104,
   "metadata": {},
   "outputs": [
    {
     "data": {
      "text/plain": [
       "tensor([10.], grad_fn=<ThAddBackward>)"
      ]
     },
     "execution_count": 104,
     "metadata": {},
     "output_type": "execute_result"
    }
   ],
   "source": [
    "y_ = k*x + b\n",
    "y_"
   ]
  },
  {
   "cell_type": "code",
   "execution_count": 105,
   "metadata": {},
   "outputs": [
    {
     "data": {
      "text/plain": [
       "tensor([0.], grad_fn=<PowBackward0>)"
      ]
     },
     "execution_count": 105,
     "metadata": {},
     "output_type": "execute_result"
    }
   ],
   "source": [
    "loss = (y - y_)**2\n",
    "loss"
   ]
  },
  {
   "cell_type": "code",
   "execution_count": null,
   "metadata": {},
   "outputs": [],
   "source": []
  },
  {
   "cell_type": "code",
   "execution_count": null,
   "metadata": {},
   "outputs": [],
   "source": []
  },
  {
   "cell_type": "code",
   "execution_count": null,
   "metadata": {},
   "outputs": [],
   "source": []
  },
  {
   "cell_type": "code",
   "execution_count": null,
   "metadata": {},
   "outputs": [],
   "source": []
  },
  {
   "cell_type": "code",
   "execution_count": null,
   "metadata": {},
   "outputs": [],
   "source": []
  }
 ],
 "metadata": {
  "kernelspec": {
   "display_name": "Python 3",
   "language": "python",
   "name": "python3"
  },
  "language_info": {
   "codemirror_mode": {
    "name": "ipython",
    "version": 3
   },
   "file_extension": ".py",
   "mimetype": "text/x-python",
   "name": "python",
   "nbconvert_exporter": "python",
   "pygments_lexer": "ipython3",
   "version": "3.6.5"
  }
 },
 "nbformat": 4,
 "nbformat_minor": 2
}
