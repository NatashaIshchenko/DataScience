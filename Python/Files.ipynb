{
 "cells": [
  {
   "cell_type": "code",
   "execution_count": 28,
   "metadata": {},
   "outputs": [
    {
     "name": "stdout",
     "output_type": "stream",
     "text": [
      "stroka 1\n",
      "\n",
      "stroka 2\n"
     ]
    }
   ],
   "source": [
    "# чтение из файла\n",
    "\n",
    "file1 = open('test_file1.txt', 'r') # открытие файла на чтение\n",
    "str1 = file1.readline() # чтение одной строки\n",
    "print(str1)\n",
    "str2 = file1.readline().strip() # strip() - убирает служебные символы, при чтении строки\n",
    "print(str2)\n",
    "file1.close() # закрытие файла (обязательно)"
   ]
  },
  {
   "cell_type": "code",
   "execution_count": 29,
   "metadata": {},
   "outputs": [
    {
     "name": "stdout",
     "output_type": "stream",
     "text": [
      "stroka 1\n",
      "\n",
      "stroka 2\n",
      "\n",
      "stroka 3\n",
      "\n"
     ]
    }
   ],
   "source": [
    "# проход по всему файлу\n",
    "\n",
    "# команда with сама закрывает файл\n",
    "with open('test_file1.txt', 'r') as file2:\n",
    "    for line in file2:\n",
    "        print(line)"
   ]
  },
  {
   "cell_type": "code",
   "execution_count": 30,
   "metadata": {},
   "outputs": [],
   "source": [
    "# позволяет указывать абсолютный путь\n",
    "\n",
    "# import os\n",
    "# os.path.join('.','dirname', 'filename.txt')"
   ]
  },
  {
   "cell_type": "code",
   "execution_count": 33,
   "metadata": {},
   "outputs": [],
   "source": [
    "# запись в файл\n",
    "# команда write затирает старые данные\n",
    "\n",
    "file3 = open('test_file1.txt', 'w')\n",
    "file3.write('some text 1 \\n')\n",
    "file3.write('some text 2')\n",
    "file3.write('some text 3 \\n')\n",
    "file3.close()"
   ]
  },
  {
   "cell_type": "code",
   "execution_count": 34,
   "metadata": {},
   "outputs": [],
   "source": [
    "# команда with сама закрывает файл\n",
    "with open('test_file1.txt', 'w') as file4:\n",
    "    file4.write('some text 4 \\n')\n",
    "    file4.write(str(25))    "
   ]
  },
  {
   "cell_type": "code",
   "execution_count": null,
   "metadata": {},
   "outputs": [],
   "source": []
  },
  {
   "cell_type": "code",
   "execution_count": null,
   "metadata": {},
   "outputs": [],
   "source": []
  }
 ],
 "metadata": {
  "kernelspec": {
   "display_name": "Python 3",
   "language": "python",
   "name": "python3"
  },
  "language_info": {
   "codemirror_mode": {
    "name": "ipython",
    "version": 3
   },
   "file_extension": ".py",
   "mimetype": "text/x-python",
   "name": "python",
   "nbconvert_exporter": "python",
   "pygments_lexer": "ipython3",
   "version": "3.6.5"
  }
 },
 "nbformat": 4,
 "nbformat_minor": 2
}
