{
 "cells": [
  {
   "cell_type": "markdown",
   "metadata": {},
   "source": [
    "# Map"
   ]
  },
  {
   "cell_type": "code",
   "execution_count": 39,
   "metadata": {},
   "outputs": [],
   "source": [
    "#Принимает функцию и набор данных\n",
    "#Создаёт новую коллекцию,выполняет функцию на каждой позиции данных и добавляет возвращаемое значение в новую коллекцию\n",
    "#Возвращает новую коллекцию"
   ]
  },
  {
   "cell_type": "code",
   "execution_count": 40,
   "metadata": {},
   "outputs": [
    {
     "data": {
      "text/plain": [
       "[6, 6, 7]"
      ]
     },
     "execution_count": 40,
     "metadata": {},
     "output_type": "execute_result"
    }
   ],
   "source": [
    "list(map(len, ['Ivanov', 'Petrov', 'Sidorov']))"
   ]
  },
  {
   "cell_type": "code",
   "execution_count": 41,
   "metadata": {},
   "outputs": [
    {
     "data": {
      "text/plain": [
       "{6, 7}"
      ]
     },
     "execution_count": 41,
     "metadata": {},
     "output_type": "execute_result"
    }
   ],
   "source": [
    "set(map(len, ['Ivanov', 'Petrov', 'Sidorov']))"
   ]
  },
  {
   "cell_type": "code",
   "execution_count": 42,
   "metadata": {},
   "outputs": [
    {
     "name": "stdout",
     "output_type": "stream",
     "text": [
      "1965893267072\n",
      "<map object at 0x000001C9B85EAE80>\n",
      "[6, 6, 7]\n",
      "set()\n",
      "[]\n",
      "<map object at 0x000001C9B85EAE80>\n",
      "1965893267072\n"
     ]
    }
   ],
   "source": [
    "name_len = map(len, ['Ivanov', 'Petrov', 'Sidorov'])\n",
    "print(id(name_len))\n",
    "print(name_len)\n",
    "print(list(name_len))\n",
    "print(set(name_len))\n",
    "print(list(name_len))\n",
    "print(name_len)\n",
    "print(id(name_len))"
   ]
  },
  {
   "cell_type": "markdown",
   "metadata": {},
   "source": [
    "# Lambda"
   ]
  },
  {
   "cell_type": "code",
   "execution_count": 27,
   "metadata": {},
   "outputs": [],
   "source": [
    "# Lambda используется, когда нужно использовать функцию без предварительного описания через def\n",
    "\n",
    "# lambda arg1,arg2,...,arg3: (выражение, которое вернет lambda-функция)  "
   ]
  },
  {
   "cell_type": "code",
   "execution_count": 28,
   "metadata": {},
   "outputs": [],
   "source": [
    "def func1(x,y):\n",
    "    if (y is None):\n",
    "        return x\n",
    "    else:\n",
    "        return x*y  "
   ]
  },
  {
   "cell_type": "code",
   "execution_count": 29,
   "metadata": {},
   "outputs": [],
   "source": [
    "# перепищем func1 на Lambda-функцию\n",
    "func2 = lambda x,y: x*(y if y is not None else 1)"
   ]
  },
  {
   "cell_type": "code",
   "execution_count": 30,
   "metadata": {},
   "outputs": [
    {
     "data": {
      "text/plain": [
       "2"
      ]
     },
     "execution_count": 30,
     "metadata": {},
     "output_type": "execute_result"
    }
   ],
   "source": [
    "func2(2,None)"
   ]
  },
  {
   "cell_type": "code",
   "execution_count": 31,
   "metadata": {},
   "outputs": [
    {
     "data": {
      "text/plain": [
       "8"
      ]
     },
     "execution_count": 31,
     "metadata": {},
     "output_type": "execute_result"
    }
   ],
   "source": [
    "func2(2,4)"
   ]
  },
  {
   "cell_type": "code",
   "execution_count": 33,
   "metadata": {},
   "outputs": [
    {
     "data": {
      "text/plain": [
       "[1, 4, 9]"
      ]
     },
     "execution_count": 33,
     "metadata": {},
     "output_type": "execute_result"
    }
   ],
   "source": [
    "# пример с использованием map\n",
    "y = [1,2,3]\n",
    "list( map(lambda x:x*x, y) )"
   ]
  },
  {
   "cell_type": "markdown",
   "metadata": {},
   "source": [
    "# Filter"
   ]
  },
  {
   "cell_type": "code",
   "execution_count": 34,
   "metadata": {},
   "outputs": [],
   "source": [
    "# Filter - создает список элементов, для которых функция вернула True"
   ]
  },
  {
   "cell_type": "code",
   "execution_count": 37,
   "metadata": {},
   "outputs": [
    {
     "name": "stdout",
     "output_type": "stream",
     "text": [
      "[3, 4]\n"
     ]
    }
   ],
   "source": [
    "list1 = [1,2,3,4]\n",
    "list2 = list(filter(lambda x: x>=3, list1))\n",
    "print(list2)"
   ]
  },
  {
   "cell_type": "markdown",
   "metadata": {},
   "source": [
    "# Пространство имен"
   ]
  },
  {
   "cell_type": "code",
   "execution_count": 43,
   "metadata": {},
   "outputs": [],
   "source": [
    "# Стек пространства имен\n",
    "\n",
    "# Builtins - содержит встроеные функции и классы (int, str, bool, id, max,...)\n",
    "# nain/global - содержит глобальные переменные и функции\n",
    "# local"
   ]
  },
  {
   "cell_type": "code",
   "execution_count": 47,
   "metadata": {},
   "outputs": [
    {
     "name": "stdout",
     "output_type": "stream",
     "text": [
      "10\n"
     ]
    }
   ],
   "source": [
    "# циклы не создают себе локальное пространство имен\n",
    "for i in range(11):\n",
    "    x1 = i\n",
    "print(x1)"
   ]
  },
  {
   "cell_type": "code",
   "execution_count": 48,
   "metadata": {},
   "outputs": [
    {
     "ename": "NameError",
     "evalue": "name 'y1' is not defined",
     "output_type": "error",
     "traceback": [
      "\u001b[1;31m---------------------------------------------------------------------------\u001b[0m",
      "\u001b[1;31mNameError\u001b[0m                                 Traceback (most recent call last)",
      "\u001b[1;32m<ipython-input-48-d87bafd956cc>\u001b[0m in \u001b[0;36m<module>\u001b[1;34m()\u001b[0m\n\u001b[0;32m      1\u001b[0m \u001b[1;32mfor\u001b[0m \u001b[0mi\u001b[0m \u001b[1;32min\u001b[0m \u001b[1;33m[\u001b[0m\u001b[1;33m]\u001b[0m\u001b[1;33m:\u001b[0m\u001b[1;33m\u001b[0m\u001b[0m\n\u001b[0;32m      2\u001b[0m     \u001b[0my1\u001b[0m \u001b[1;33m=\u001b[0m \u001b[0mi\u001b[0m\u001b[1;33m\u001b[0m\u001b[0m\n\u001b[1;32m----> 3\u001b[1;33m \u001b[0mprint\u001b[0m\u001b[1;33m(\u001b[0m\u001b[0my1\u001b[0m\u001b[1;33m)\u001b[0m\u001b[1;33m\u001b[0m\u001b[0m\n\u001b[0m",
      "\u001b[1;31mNameError\u001b[0m: name 'y1' is not defined"
     ]
    }
   ],
   "source": [
    "for i in []:\n",
    "    y1 = i\n",
    "print(y1)"
   ]
  },
  {
   "cell_type": "code",
   "execution_count": 61,
   "metadata": {},
   "outputs": [
    {
     "name": "stdout",
     "output_type": "stream",
     "text": [
      "1\n",
      "1\n"
     ]
    }
   ],
   "source": [
    "# local переменные\n",
    "\n",
    "perem = 1\n",
    "def func1_level1():\n",
    "    perem = 2\n",
    "\n",
    "print(perem)\n",
    "func1_level1()\n",
    "print(perem)    "
   ]
  },
  {
   "cell_type": "code",
   "execution_count": 62,
   "metadata": {},
   "outputs": [
    {
     "name": "stdout",
     "output_type": "stream",
     "text": [
      "1\n",
      "2\n"
     ]
    }
   ],
   "source": [
    "# global переменные\n",
    "\n",
    "perem = 1\n",
    "def func2_level1():\n",
    "    global perem\n",
    "    perem = 2\n",
    "\n",
    "print(perem)\n",
    "func2_level1()\n",
    "print(perem) "
   ]
  },
  {
   "cell_type": "code",
   "execution_count": 63,
   "metadata": {},
   "outputs": [
    {
     "name": "stdout",
     "output_type": "stream",
     "text": [
      "1\n",
      "2\n",
      "3\n"
     ]
    }
   ],
   "source": [
    "# nonlocal переменные (ищет переменную не в текущем пространстве, а двигается по стеку до global(невключая его)\n",
    "\n",
    "perem = 1\n",
    "\n",
    "def func3_level1():\n",
    "    perem = 2\n",
    "    \n",
    "    def func3_level2():\n",
    "        nonlocal perem\n",
    "        perem = 3\n",
    "        \n",
    "    print(perem)\n",
    "    func3_level2()\n",
    "    print(perem)\n",
    "\n",
    "print(perem)\n",
    "func3_level1()   "
   ]
  },
  {
   "cell_type": "markdown",
   "metadata": {},
   "source": [
    "# Классы"
   ]
  },
  {
   "cell_type": "code",
   "execution_count": 288,
   "metadata": {},
   "outputs": [],
   "source": [
    "# сам класс и экземпляр класса - это объекты"
   ]
  },
  {
   "cell_type": "markdown",
   "metadata": {},
   "source": [
    "== объявление класса =="
   ]
  },
  {
   "cell_type": "code",
   "execution_count": 289,
   "metadata": {},
   "outputs": [],
   "source": [
    "class MyClass1:\n",
    "    a = 10\n",
    "    \n",
    "    def func1(): # такая функция вызывается не через объект экземпляра класса, а через объект класса <class name> \n",
    "        print(\"It's func1()\")\n",
    "        \n",
    "    \n",
    "    def func2(self): #self - текущий объект экземпляра класса, такая функция вызывается через объект экземпляара класса\n",
    "        self.a+=1\n",
    "        print(\"It's func2(self)\")"
   ]
  },
  {
   "cell_type": "code",
   "execution_count": 290,
   "metadata": {},
   "outputs": [
    {
     "data": {
      "text/plain": [
       "10"
      ]
     },
     "execution_count": 290,
     "metadata": {},
     "output_type": "execute_result"
    }
   ],
   "source": [
    "m = MyClass1()\n",
    "m.a"
   ]
  },
  {
   "cell_type": "code",
   "execution_count": 291,
   "metadata": {},
   "outputs": [
    {
     "name": "stdout",
     "output_type": "stream",
     "text": [
      "It's func2(self)\n"
     ]
    },
    {
     "data": {
      "text/plain": [
       "11"
      ]
     },
     "execution_count": 291,
     "metadata": {},
     "output_type": "execute_result"
    }
   ],
   "source": [
    "m.func2()\n",
    "m.a"
   ]
  },
  {
   "cell_type": "code",
   "execution_count": 292,
   "metadata": {},
   "outputs": [
    {
     "ename": "TypeError",
     "evalue": "func1() takes 0 positional arguments but 1 was given",
     "output_type": "error",
     "traceback": [
      "\u001b[1;31m---------------------------------------------------------------------------\u001b[0m",
      "\u001b[1;31mTypeError\u001b[0m                                 Traceback (most recent call last)",
      "\u001b[1;32m<ipython-input-292-cb4391195053>\u001b[0m in \u001b[0;36m<module>\u001b[1;34m()\u001b[0m\n\u001b[1;32m----> 1\u001b[1;33m \u001b[0mm\u001b[0m\u001b[1;33m.\u001b[0m\u001b[0mfunc1\u001b[0m\u001b[1;33m(\u001b[0m\u001b[1;33m)\u001b[0m\u001b[1;33m\u001b[0m\u001b[0m\n\u001b[0m",
      "\u001b[1;31mTypeError\u001b[0m: func1() takes 0 positional arguments but 1 was given"
     ]
    }
   ],
   "source": [
    "m.func1()"
   ]
  },
  {
   "cell_type": "code",
   "execution_count": 293,
   "metadata": {},
   "outputs": [
    {
     "name": "stdout",
     "output_type": "stream",
     "text": [
      "It's func1()\n"
     ]
    }
   ],
   "source": [
    "MyClass1.func1()"
   ]
  },
  {
   "cell_type": "code",
   "execution_count": 294,
   "metadata": {},
   "outputs": [
    {
     "ename": "TypeError",
     "evalue": "func2() missing 1 required positional argument: 'self'",
     "output_type": "error",
     "traceback": [
      "\u001b[1;31m---------------------------------------------------------------------------\u001b[0m",
      "\u001b[1;31mTypeError\u001b[0m                                 Traceback (most recent call last)",
      "\u001b[1;32m<ipython-input-294-f083c07fcfd3>\u001b[0m in \u001b[0;36m<module>\u001b[1;34m()\u001b[0m\n\u001b[1;32m----> 1\u001b[1;33m \u001b[0mMyClass1\u001b[0m\u001b[1;33m.\u001b[0m\u001b[0mfunc2\u001b[0m\u001b[1;33m(\u001b[0m\u001b[1;33m)\u001b[0m\u001b[1;33m\u001b[0m\u001b[0m\n\u001b[0m",
      "\u001b[1;31mTypeError\u001b[0m: func2() missing 1 required positional argument: 'self'"
     ]
    }
   ],
   "source": [
    "MyClass1.func2()"
   ]
  },
  {
   "cell_type": "code",
   "execution_count": 295,
   "metadata": {},
   "outputs": [
    {
     "name": "stdout",
     "output_type": "stream",
     "text": [
      "It's func2(self)\n"
     ]
    }
   ],
   "source": [
    "MyClass1.func2(MyClass1())"
   ]
  },
  {
   "cell_type": "markdown",
   "metadata": {},
   "source": [
    "== добавление атрибутов в объект экземпляра класса =="
   ]
  },
  {
   "cell_type": "code",
   "execution_count": 296,
   "metadata": {},
   "outputs": [],
   "source": [
    "# объявляем пустой класс\n",
    "\n",
    "class MyClass2:\n",
    "    pass"
   ]
  },
  {
   "cell_type": "code",
   "execution_count": 297,
   "metadata": {},
   "outputs": [
    {
     "name": "stdout",
     "output_type": "stream",
     "text": [
      "1\n",
      "2\n"
     ]
    }
   ],
   "source": [
    "# в экземпляр класса можно добавлять атрибуты!!!\n",
    "\n",
    "m1 = MyClass2()\n",
    "m1.x = 1\n",
    "m1.y = 2\n",
    "print(m1.x)\n",
    "print(m1.y)"
   ]
  },
  {
   "cell_type": "markdown",
   "metadata": {},
   "source": [
    "== конструкторы =="
   ]
  },
  {
   "cell_type": "code",
   "execution_count": 298,
   "metadata": {},
   "outputs": [],
   "source": [
    "# Python не поддерживает перегрузку функций\n",
    "# поэтому конструктор есть смысл описывать один в классе, так как работать будет только последний\n",
    "# конструктор объявляется с помошью __init__\n",
    "\n",
    "# переменные можно объявлять как в конструкторе так и в самом классе\n",
    "\n",
    "# переменные, объявленные прямо в классе, а не в конструкторе:\n",
    "# - изменяемые: общие для всех экземпляров класса и самого класса\n",
    "# - неизменяемые: свои для всех экземпляров класса и самого класса\n",
    "\n",
    "# чтобы у каждого экземпляра класса были свои переменные, нужно их объявлять в рамках конструктора"
   ]
  },
  {
   "cell_type": "code",
   "execution_count": 299,
   "metadata": {},
   "outputs": [],
   "source": [
    "class MyClass3:\n",
    "    def __init__(self): # это конструктор\n",
    "        self.x=3 \n",
    "    \n",
    "    def func1(self):\n",
    "        self.x+=1"
   ]
  },
  {
   "cell_type": "code",
   "execution_count": 300,
   "metadata": {},
   "outputs": [
    {
     "name": "stdout",
     "output_type": "stream",
     "text": [
      "3\n",
      "4\n"
     ]
    }
   ],
   "source": [
    "m3 = MyClass3()\n",
    "print(m3.x)\n",
    "m3.func1()\n",
    "print(m3.x)"
   ]
  },
  {
   "cell_type": "code",
   "execution_count": 301,
   "metadata": {},
   "outputs": [
    {
     "name": "stdout",
     "output_type": "stream",
     "text": [
      "3\n",
      "3\n"
     ]
    }
   ],
   "source": [
    "m3_1 = MyClass3()\n",
    "m3_2 = MyClass3()\n",
    "\n",
    "print(m3_1.x)\n",
    "print(m3_2.x)"
   ]
  },
  {
   "cell_type": "code",
   "execution_count": 302,
   "metadata": {},
   "outputs": [
    {
     "name": "stdout",
     "output_type": "stream",
     "text": [
      "4\n",
      "5\n"
     ]
    }
   ],
   "source": [
    "m3_1.func1()\n",
    "m3_2.func1()\n",
    "m3_2.func1()\n",
    "\n",
    "print(m3_1.x)\n",
    "print(m3_2.x)"
   ]
  },
  {
   "cell_type": "code",
   "execution_count": 303,
   "metadata": {},
   "outputs": [],
   "source": [
    "class MyClass4:\n",
    "    def __init__(self, *params): # это конструктор\n",
    "        self.args=params"
   ]
  },
  {
   "cell_type": "code",
   "execution_count": 304,
   "metadata": {},
   "outputs": [
    {
     "name": "stdout",
     "output_type": "stream",
     "text": [
      "1\n",
      "2\n",
      "3\n",
      "4\n"
     ]
    }
   ],
   "source": [
    "m4 = MyClass4(1,2,3,4)\n",
    "for i in m4.args:\n",
    "    print(i)"
   ]
  },
  {
   "cell_type": "markdown",
   "metadata": {},
   "source": [
    "переменные, объявленные прямо в классе, а не в конструкторе:\n",
    "- изменяемые: общие для всех экземпляров класса и самого класса\n",
    "- неизменяемые: свои для всех экземпляров класса и самого класса"
   ]
  },
  {
   "cell_type": "code",
   "execution_count": 305,
   "metadata": {},
   "outputs": [],
   "source": [
    "class MyClass5:\n",
    "    list1=[1,2,3]\n",
    "    arg1 = 4\n",
    "    arg2 = 5\n",
    "    \n",
    "    # поменяется значение у класса и экземпляров класса, так как переменная изменяемая\n",
    "    def add_self_list1(self, par):\n",
    "        self.list1.append(par) \n",
    "        \n",
    "    # поменяется значение у вызываемого экземпляров, так как переменная неизменяемая\n",
    "    def set_self_arg1(self, par):\n",
    "        self.arg1 = par\n",
    "    \n",
    "    # поменяется значение у класса и экземпляров класса(хоть переменная и неизменяемая), \n",
    "    # если до этого в экземпляре класса она не была переопределена\n",
    "    def set_arg2(self):\n",
    "        MyClass5.arg2+=1 \n",
    "    \n",
    "    # поменяется значение у вызываемого экземпляров, так как переменная неизменяемая \n",
    "    def set_self_arg2(self, par):\n",
    "        self.arg2 = par       "
   ]
  },
  {
   "cell_type": "code",
   "execution_count": 306,
   "metadata": {},
   "outputs": [
    {
     "name": "stdout",
     "output_type": "stream",
     "text": [
      "[1, 2, 3]\n",
      "[1, 2, 3]\n",
      "[1, 2, 3]\n"
     ]
    }
   ],
   "source": [
    "m5 = MyClass5()\n",
    "m6 = MyClass5()\n",
    "\n",
    "print(m5.list1)\n",
    "print(m6.list1)\n",
    "print(MyClass5.list1)"
   ]
  },
  {
   "cell_type": "code",
   "execution_count": 307,
   "metadata": {},
   "outputs": [
    {
     "name": "stdout",
     "output_type": "stream",
     "text": [
      "[1, 2, 3, 4]\n",
      "[1, 2, 3, 4]\n",
      "[1, 2, 3, 4]\n"
     ]
    }
   ],
   "source": [
    "m5.add_self_list1(4)\n",
    "\n",
    "print(m5.list1)\n",
    "print(m6.list1)\n",
    "print(MyClass5.list1)"
   ]
  },
  {
   "cell_type": "code",
   "execution_count": 308,
   "metadata": {},
   "outputs": [
    {
     "name": "stdout",
     "output_type": "stream",
     "text": [
      "4\n",
      "4\n",
      "4\n"
     ]
    }
   ],
   "source": [
    "print(m5.arg1)\n",
    "print(m6.arg1)\n",
    "print(MyClass5.arg1)"
   ]
  },
  {
   "cell_type": "code",
   "execution_count": 309,
   "metadata": {},
   "outputs": [
    {
     "name": "stdout",
     "output_type": "stream",
     "text": [
      "6\n",
      "4\n",
      "4\n"
     ]
    }
   ],
   "source": [
    "m5.set_self_arg1(6)\n",
    "\n",
    "print(m5.arg1)\n",
    "print(m6.arg1)\n",
    "print(MyClass5.arg1)"
   ]
  },
  {
   "cell_type": "code",
   "execution_count": 310,
   "metadata": {},
   "outputs": [
    {
     "name": "stdout",
     "output_type": "stream",
     "text": [
      "5\n",
      "5\n",
      "5\n"
     ]
    }
   ],
   "source": [
    "print(m5.arg2)\n",
    "print(m6.arg2)\n",
    "print(MyClass5.arg2)"
   ]
  },
  {
   "cell_type": "code",
   "execution_count": 311,
   "metadata": {},
   "outputs": [
    {
     "name": "stdout",
     "output_type": "stream",
     "text": [
      "8\n",
      "6\n",
      "6\n"
     ]
    }
   ],
   "source": [
    "m5.set_self_arg2(8)\n",
    "m6.set_arg2()\n",
    "\n",
    "print(m5.arg2)\n",
    "print(m6.arg2)\n",
    "print(MyClass5.arg2)"
   ]
  },
  {
   "cell_type": "markdown",
   "metadata": {},
   "source": [
    "== получение атрибутов экземпляров класса и самого класса =="
   ]
  },
  {
   "cell_type": "code",
   "execution_count": 312,
   "metadata": {},
   "outputs": [
    {
     "data": {
      "text/plain": [
       "{'arg1': 6, 'arg2': 8}"
      ]
     },
     "execution_count": 312,
     "metadata": {},
     "output_type": "execute_result"
    }
   ],
   "source": [
    "m5.__dict__"
   ]
  },
  {
   "cell_type": "code",
   "execution_count": 313,
   "metadata": {},
   "outputs": [
    {
     "data": {
      "text/plain": [
       "{}"
      ]
     },
     "execution_count": 313,
     "metadata": {},
     "output_type": "execute_result"
    }
   ],
   "source": [
    "m6.__dict__"
   ]
  },
  {
   "cell_type": "code",
   "execution_count": 314,
   "metadata": {},
   "outputs": [
    {
     "data": {
      "text/plain": [
       "mappingproxy({'__module__': '__main__',\n",
       "              'list1': [1, 2, 3, 4],\n",
       "              'arg1': 4,\n",
       "              'arg2': 6,\n",
       "              'add_self_list1': <function __main__.MyClass5.add_self_list1(self, par)>,\n",
       "              'set_self_arg1': <function __main__.MyClass5.set_self_arg1(self, par)>,\n",
       "              'set_arg2': <function __main__.MyClass5.set_arg2(self)>,\n",
       "              'set_self_arg2': <function __main__.MyClass5.set_self_arg2(self, par)>,\n",
       "              '__dict__': <attribute '__dict__' of 'MyClass5' objects>,\n",
       "              '__weakref__': <attribute '__weakref__' of 'MyClass5' objects>,\n",
       "              '__doc__': None})"
      ]
     },
     "execution_count": 314,
     "metadata": {},
     "output_type": "execute_result"
    }
   ],
   "source": [
    "MyClass5.__dict__"
   ]
  },
  {
   "cell_type": "markdown",
   "metadata": {},
   "source": [
    "# Наследование классов"
   ]
  },
  {
   "cell_type": "markdown",
   "metadata": {},
   "source": [
    "Поддержуется множественное наследование\n",
    "\n",
    "Все классы наследуются от класса Object\n",
    "\n",
    "Объявление класса наследуемого от других:\n",
    "    \n",
    "class ChildClass(ParentClass1, ParentClass2, ParentClass3):\n",
    "    pass\n",
    "    \n",
    "Порядок поиска атрибутов/функций:\n",
    " 1. namespace экземпляр класса Child\n",
    " 2. namespace класса Child\n",
    " 3. namespaces классов родителей (от ближайшего к дальнему, слева на право)"
   ]
  },
  {
   "cell_type": "code",
   "execution_count": 356,
   "metadata": {},
   "outputs": [],
   "source": [
    "class MyList(list):\n",
    "    def even_length(self):\n",
    "        return len(self) % 2 == 0"
   ]
  },
  {
   "cell_type": "code",
   "execution_count": 357,
   "metadata": {},
   "outputs": [
    {
     "data": {
      "text/plain": [
       "[]"
      ]
     },
     "execution_count": 357,
     "metadata": {},
     "output_type": "execute_result"
    }
   ],
   "source": [
    "x = MyList() # вызывается конструктор предка, так как в тек классе он не определен\n",
    "x"
   ]
  },
  {
   "cell_type": "code",
   "execution_count": 358,
   "metadata": {},
   "outputs": [
    {
     "data": {
      "text/plain": [
       "[1, 2, 3, 4]"
      ]
     },
     "execution_count": 358,
     "metadata": {},
     "output_type": "execute_result"
    }
   ],
   "source": [
    "x.extend([1,2,3,4]) # вызываем метод предка\n",
    "x"
   ]
  },
  {
   "cell_type": "code",
   "execution_count": 360,
   "metadata": {},
   "outputs": [
    {
     "data": {
      "text/plain": [
       "True"
      ]
     },
     "execution_count": 360,
     "metadata": {},
     "output_type": "execute_result"
    }
   ],
   "source": [
    "x.even_length() # метод потомка"
   ]
  },
  {
   "cell_type": "code",
   "execution_count": 363,
   "metadata": {},
   "outputs": [],
   "source": [
    "class D: pass\n",
    "class E: pass\n",
    "class B(D, E): pass\n",
    "class C: pass\n",
    "class A(B,C): pass"
   ]
  },
  {
   "cell_type": "code",
   "execution_count": 369,
   "metadata": {},
   "outputs": [
    {
     "name": "stdout",
     "output_type": "stream",
     "text": [
      "True\n",
      "False\n",
      "True\n"
     ]
    }
   ],
   "source": [
    "# issubclass(X,Y) - является ли X наследником Y\n",
    "\n",
    "print(issubclass(A,A))\n",
    "print(issubclass(C,D))\n",
    "print(issubclass(A,D))"
   ]
  },
  {
   "cell_type": "code",
   "execution_count": 373,
   "metadata": {},
   "outputs": [
    {
     "name": "stdout",
     "output_type": "stream",
     "text": [
      "True\n",
      "True\n",
      "True\n",
      "False\n"
     ]
    }
   ],
   "source": [
    "# instanse(x,Y) ~ является ли type(x) наследником Y\n",
    "\n",
    "x = A()\n",
    "print(isinstance(x,A))\n",
    "print(isinstance(x,B))\n",
    "print(isinstance(x,object))\n",
    "print(isinstance(x,str))"
   ]
  },
  {
   "cell_type": "code",
   "execution_count": 383,
   "metadata": {},
   "outputs": [
    {
     "data": {
      "text/plain": [
       "[__main__.A, __main__.B, __main__.D, __main__.E, __main__.C, object]"
      ]
     },
     "execution_count": 383,
     "metadata": {},
     "output_type": "execute_result"
    }
   ],
   "source": [
    "# ClassName.mro() выводит порядок поиска атрибутов/методов \n",
    "\n",
    "A.mro()"
   ]
  },
  {
   "cell_type": "markdown",
   "metadata": {},
   "source": [
    "== вызов super методов =="
   ]
  },
  {
   "cell_type": "code",
   "execution_count": 384,
   "metadata": {},
   "outputs": [],
   "source": [
    "class MyList2(list):\n",
    "    def pop(self):\n",
    "        x = super(MyList2, self).pop() # ~ list.pop(self)\n",
    "        return x"
   ]
  },
  {
   "cell_type": "code",
   "execution_count": 385,
   "metadata": {},
   "outputs": [
    {
     "data": {
      "text/plain": [
       "5"
      ]
     },
     "execution_count": 385,
     "metadata": {},
     "output_type": "execute_result"
    }
   ],
   "source": [
    "ml1 = MyList2()\n",
    "ml1.extend([1,2,3,4,5])\n",
    "ml1.pop()"
   ]
  },
  {
   "cell_type": "markdown",
   "metadata": {},
   "source": [
    "== порядок вызова методов =="
   ]
  },
  {
   "cell_type": "code",
   "execution_count": 388,
   "metadata": {},
   "outputs": [],
   "source": [
    "class Base:\n",
    "    def __init__(self):\n",
    "        self.val = 0\n",
    "    \n",
    "    def add_one(self):\n",
    "        self.val = 1\n",
    "    \n",
    "    def add_many(self):\n",
    "        self.add_one()\n",
    "\n",
    "class Child(Base):\n",
    "    def add_one(self):\n",
    "        self.val = 10"
   ]
  },
  {
   "cell_type": "code",
   "execution_count": 390,
   "metadata": {},
   "outputs": [
    {
     "data": {
      "text/plain": [
       "10"
      ]
     },
     "execution_count": 390,
     "metadata": {},
     "output_type": "execute_result"
    }
   ],
   "source": [
    "c1 = Child()\n",
    "c1.add_many() # из метода предка вызовится метод потомка\n",
    "c1.val"
   ]
  },
  {
   "cell_type": "code",
   "execution_count": null,
   "metadata": {},
   "outputs": [],
   "source": []
  },
  {
   "cell_type": "code",
   "execution_count": null,
   "metadata": {},
   "outputs": [],
   "source": []
  },
  {
   "cell_type": "code",
   "execution_count": null,
   "metadata": {},
   "outputs": [],
   "source": []
  }
 ],
 "metadata": {
  "kernelspec": {
   "display_name": "Python 3",
   "language": "python",
   "name": "python3"
  },
  "language_info": {
   "codemirror_mode": {
    "name": "ipython",
    "version": 3
   },
   "file_extension": ".py",
   "mimetype": "text/x-python",
   "name": "python",
   "nbconvert_exporter": "python",
   "pygments_lexer": "ipython3",
   "version": "3.6.5"
  }
 },
 "nbformat": 4,
 "nbformat_minor": 2
}
