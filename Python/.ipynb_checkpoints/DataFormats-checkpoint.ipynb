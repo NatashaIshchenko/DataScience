{
 "cells": [
  {
   "cell_type": "markdown",
   "metadata": {},
   "source": [
    "# CSV"
   ]
  },
  {
   "cell_type": "markdown",
   "metadata": {},
   "source": [
    "CSV - текстовый формат, предназначенный для представления табличных данных. \n",
    "\n",
    "Спецификация:\n",
    "\n",
    "    Каждая строка файла — это одна строка таблицы.\n",
    "    \n",
    "    Разделителем (англ. delimiter) значений колонок является символ запятой (,)\n",
    "    Значения, содержащие зарезервированные символы (двойная кавычка, запятая, точка с запятой, новая строка) обрамляются двойными кавычками (\"). Если в значении встречаются кавычки — они представляются в файле в виде двух кавычек подряд"
   ]
  },
  {
   "cell_type": "code",
   "execution_count": 2,
   "metadata": {},
   "outputs": [],
   "source": [
    "import csv"
   ]
  },
  {
   "cell_type": "code",
   "execution_count": 7,
   "metadata": {},
   "outputs": [
    {
     "name": "stdout",
     "output_type": "stream",
     "text": [
      "['str 11', 'str12', 'str 13', 'str14']\n",
      "['str21', 'str 22', 'str23', 'str24']\n",
      "['str31', 'str32', '33,2', 'str34\\nadditional string']\n"
     ]
    }
   ],
   "source": [
    "with open('filecsv1.csv') as f:\n",
    "    reader = csv.reader(f)\n",
    "    for row in reader:\n",
    "        print(row)"
   ]
  },
  {
   "cell_type": "code",
   "execution_count": 16,
   "metadata": {},
   "outputs": [],
   "source": [
    "test_data1 = [['aa11', 'aa12', 'aa13', 'aa14'],['aa21', 'aa22', 'aa23', 'aa24']]\n",
    "\n",
    "with open('filecsv1.csv', 'a') as f:\n",
    "    writer = csv.writer(f)\n",
    "    writer.writerows(test_data1)"
   ]
  },
  {
   "cell_type": "markdown",
   "metadata": {},
   "source": [
    "# JSON"
   ]
  },
  {
   "cell_type": "code",
   "execution_count": 17,
   "metadata": {},
   "outputs": [],
   "source": [
    "import json"
   ]
  },
  {
   "cell_type": "markdown",
   "metadata": {},
   "source": [
    "== из Python-объекта формирование Json =="
   ]
  },
  {
   "cell_type": "code",
   "execution_count": 18,
   "metadata": {},
   "outputs": [],
   "source": [
    "student1 = {\n",
    "    'first_name':'Greg',\n",
    "    'last_name':'Dean',\n",
    "    'scores':[70, 80, 90],\n",
    "    'description':'Good job, Greg',\n",
    "    'certificate': True\n",
    "}\n",
    "\n",
    "student2 = {\n",
    "    'first_name':'Wirt',\n",
    "    'last_name':'Wood',\n",
    "    'scores':[80, 80.2, 80],\n",
    "    'description':'Nicely Done',\n",
    "    'certificate': True\n",
    "}"
   ]
  },
  {
   "cell_type": "code",
   "execution_count": 23,
   "metadata": {},
   "outputs": [],
   "source": [
    "data = [student1, student2]\n",
    "data_json = json.dumps(data, indent = 4, sort_keys = True)"
   ]
  },
  {
   "cell_type": "code",
   "execution_count": 21,
   "metadata": {},
   "outputs": [],
   "source": [
    "# запись сформированного json в файл\n",
    "\n",
    "with open(\"students.json\", 'w') as f:\n",
    "    json.dump(data, f, indent=4, sort_keys=True)"
   ]
  },
  {
   "cell_type": "markdown",
   "metadata": {},
   "source": [
    "== из Json формирование Python-объяекта =="
   ]
  },
  {
   "cell_type": "code",
   "execution_count": 25,
   "metadata": {},
   "outputs": [
    {
     "data": {
      "text/plain": [
       "[{'certificate': True,\n",
       "  'description': 'Good job, Greg',\n",
       "  'first_name': 'Greg',\n",
       "  'last_name': 'Dean',\n",
       "  'scores': [70, 80, 90]},\n",
       " {'certificate': True,\n",
       "  'description': 'Nicely Done',\n",
       "  'first_name': 'Wirt',\n",
       "  'last_name': 'Wood',\n",
       "  'scores': [80, 80.2, 80]}]"
      ]
     },
     "execution_count": 25,
     "metadata": {},
     "output_type": "execute_result"
    }
   ],
   "source": [
    "data_python = json.loads(data_json)\n",
    "data_python"
   ]
  },
  {
   "cell_type": "code",
   "execution_count": 26,
   "metadata": {},
   "outputs": [
    {
     "data": {
      "text/plain": [
       "[{'certificate': True,\n",
       "  'description': 'Good job, Greg',\n",
       "  'first_name': 'Greg',\n",
       "  'last_name': 'Dean',\n",
       "  'scores': [70, 80, 90]},\n",
       " {'certificate': True,\n",
       "  'description': 'Nicely Done',\n",
       "  'first_name': 'Wirt',\n",
       "  'last_name': 'Wood',\n",
       "  'scores': [80, 80.2, 80]}]"
      ]
     },
     "execution_count": 26,
     "metadata": {},
     "output_type": "execute_result"
    }
   ],
   "source": [
    "# считывание json-данныъ с файла\n",
    "\n",
    "with open(\"students.json\", 'r') as f:\n",
    "    data_python2 = json.load(f)\n",
    "data_python2"
   ]
  },
  {
   "cell_type": "markdown",
   "metadata": {},
   "source": [
    "# XML"
   ]
  },
  {
   "cell_type": "code",
   "execution_count": 21,
   "metadata": {},
   "outputs": [],
   "source": [
    "from xml.etree import ElementTree"
   ]
  },
  {
   "cell_type": "code",
   "execution_count": 22,
   "metadata": {},
   "outputs": [],
   "source": [
    "tree = ElementTree.parse(\"students.xml\")"
   ]
  },
  {
   "cell_type": "code",
   "execution_count": 23,
   "metadata": {},
   "outputs": [
    {
     "data": {
      "text/plain": [
       "<Element 'studentsList' at 0x0000024D9559DB88>"
      ]
     },
     "execution_count": 23,
     "metadata": {},
     "output_type": "execute_result"
    }
   ],
   "source": [
    "root = tree.getroot()\n",
    "root"
   ]
  },
  {
   "cell_type": "code",
   "execution_count": 24,
   "metadata": {},
   "outputs": [
    {
     "data": {
      "text/plain": [
       "'studentsList'"
      ]
     },
     "execution_count": 24,
     "metadata": {},
     "output_type": "execute_result"
    }
   ],
   "source": [
    "root.tag"
   ]
  },
  {
   "cell_type": "code",
   "execution_count": 25,
   "metadata": {},
   "outputs": [
    {
     "data": {
      "text/plain": [
       "{}"
      ]
     },
     "execution_count": 25,
     "metadata": {},
     "output_type": "execute_result"
    }
   ],
   "source": [
    "root.attrib"
   ]
  },
  {
   "cell_type": "code",
   "execution_count": 26,
   "metadata": {},
   "outputs": [
    {
     "name": "stdout",
     "output_type": "stream",
     "text": [
      "student   {'id': '1'}\n",
      "student   {'id': '2'}\n"
     ]
    }
   ],
   "source": [
    "for child in root:\n",
    "    print(child.tag, \" \", child.attrib)"
   ]
  },
  {
   "cell_type": "code",
   "execution_count": 27,
   "metadata": {},
   "outputs": [
    {
     "data": {
      "text/plain": [
       "<Element 'student' at 0x0000024D9559D868>"
      ]
     },
     "execution_count": 27,
     "metadata": {},
     "output_type": "execute_result"
    }
   ],
   "source": [
    "root[0]"
   ]
  },
  {
   "cell_type": "code",
   "execution_count": 28,
   "metadata": {},
   "outputs": [
    {
     "data": {
      "text/plain": [
       "<Element 'description' at 0x0000024D9559D9F8>"
      ]
     },
     "execution_count": 28,
     "metadata": {},
     "output_type": "execute_result"
    }
   ],
   "source": [
    "root[0][1]"
   ]
  },
  {
   "cell_type": "code",
   "execution_count": 29,
   "metadata": {},
   "outputs": [
    {
     "data": {
      "text/plain": [
       "'Good job, Greg'"
      ]
     },
     "execution_count": 29,
     "metadata": {},
     "output_type": "execute_result"
    }
   ],
   "source": [
    "root[0][1].text"
   ]
  },
  {
   "cell_type": "code",
   "execution_count": 30,
   "metadata": {},
   "outputs": [
    {
     "name": "stdout",
     "output_type": "stream",
     "text": [
      "<Element 'scores' at 0x0000024D9559DCC8>\n",
      "<Element 'scores' at 0x0000024D9559DF98>\n"
     ]
    }
   ],
   "source": [
    "for element in root.iter('scores'):\n",
    "    print(element)"
   ]
  },
  {
   "cell_type": "markdown",
   "metadata": {},
   "source": [
    "# HTML"
   ]
  },
  {
   "cell_type": "code",
   "execution_count": 31,
   "metadata": {},
   "outputs": [],
   "source": [
    "from lxml import etree\n",
    "import requests"
   ]
  },
  {
   "cell_type": "code",
   "execution_count": 18,
   "metadata": {},
   "outputs": [
    {
     "name": "stdout",
     "output_type": "stream",
     "text": [
      "200\n",
      "text/html\n"
     ]
    }
   ],
   "source": [
    "res = requests.get(\"https://docs.python.org/3/\")\n",
    "print(res.status_code)\n",
    "print(res.headers[\"Content-Type\"])"
   ]
  },
  {
   "cell_type": "code",
   "execution_count": 19,
   "metadata": {},
   "outputs": [],
   "source": [
    "parser = etree.HTMLParser()\n",
    "root = etree.fromstring(res.text, parser)"
   ]
  },
  {
   "cell_type": "code",
   "execution_count": 20,
   "metadata": {
    "scrolled": true
   },
   "outputs": [
    {
     "name": "stdout",
     "output_type": "stream",
     "text": [
      "<Element a at 0x24d955ad508> {'href': 'genindex.html', 'title': 'General Index', 'accesskey': 'I'}\n",
      "<Element a at 0x24d955ad4c8> {'href': 'py-modindex.html', 'title': 'Python Module Index'}\n",
      "<Element a at 0x24d955ada88> {'href': 'https://www.python.org/'}\n",
      "<Element a at 0x24d955ad508> {'href': '#'}\n",
      "<Element a at 0x24d955ad4c8> {'class': 'biglink', 'href': 'whatsnew/3.7.html'}\n",
      "<Element a at 0x24d955ada88> {'href': 'whatsnew/index.html'}\n",
      "<Element a at 0x24d955adac8> {'class': 'biglink', 'href': 'tutorial/index.html'}\n",
      "<Element a at 0x24d955adc08> {'class': 'biglink', 'href': 'library/index.html'}\n",
      "<Element a at 0x24d955adcc8> {'class': 'biglink', 'href': 'reference/index.html'}\n",
      "<Element a at 0x24d955addc8> {'class': 'biglink', 'href': 'using/index.html'}\n",
      "<Element a at 0x24d955adec8> {'class': 'biglink', 'href': 'howto/index.html'}\n",
      "<Element a at 0x24d955b9048> {'class': 'biglink', 'href': 'installing/index.html'}\n",
      "<Element a at 0x24d955b9108> {'class': 'biglink', 'href': 'distributing/index.html'}\n",
      "<Element a at 0x24d955b9148> {'class': 'biglink', 'href': 'extending/index.html'}\n",
      "<Element a at 0x24d955b9248> {'class': 'biglink', 'href': 'c-api/index.html'}\n",
      "<Element a at 0x24d955b9348> {'class': 'biglink', 'href': 'faq/index.html'}\n",
      "<Element a at 0x24d955b9448> {'class': 'biglink', 'href': 'py-modindex.html'}\n",
      "<Element a at 0x24d955b95c8> {'class': 'biglink', 'href': 'genindex.html'}\n",
      "<Element a at 0x24d955b9648> {'class': 'biglink', 'href': 'glossary.html'}\n",
      "<Element a at 0x24d955b97c8> {'class': 'biglink', 'href': 'search.html'}\n",
      "<Element a at 0x24d955b98c8> {'class': 'biglink', 'href': 'contents.html'}\n",
      "<Element a at 0x24d955b99c8> {'class': 'biglink', 'href': 'bugs.html'}\n",
      "<Element a at 0x24d955b9ac8> {'class': 'biglink', 'href': 'about.html'}\n",
      "<Element a at 0x24d955b9bc8> {'class': 'biglink', 'href': 'license.html'}\n",
      "<Element a at 0x24d955b9cc8> {'class': 'biglink', 'href': 'copyright.html'}\n",
      "<Element a at 0x24d955b9dc8> {'href': 'download.html'}\n",
      "<Element a at 0x24d955b9ec8> {'href': 'https://docs.python.org/3.8/'}\n",
      "<Element a at 0x24d955b9f48> {'href': 'https://docs.python.org/3.6/'}\n",
      "<Element a at 0x24d955c00c8> {'href': 'https://docs.python.org/3.5/'}\n",
      "<Element a at 0x24d955c01c8> {'href': 'https://docs.python.org/2.7/'}\n",
      "<Element a at 0x24d955c02c8> {'href': 'https://www.python.org/doc/versions/'}\n",
      "<Element a at 0x24d955c03c8> {'href': 'https://www.python.org/dev/peps/'}\n",
      "<Element a at 0x24d955c04c8> {'href': 'https://wiki.python.org/moin/BeginnersGuide'}\n",
      "<Element a at 0x24d955c05c8> {'href': 'https://wiki.python.org/moin/PythonBooks'}\n",
      "<Element a at 0x24d955c06c8> {'href': 'https://www.python.org/doc/av/'}\n",
      "<Element a at 0x24d955c07c8> {'href': 'genindex.html', 'title': 'General Index'}\n",
      "<Element a at 0x24d955c08c8> {'href': 'py-modindex.html', 'title': 'Python Module Index'}\n",
      "<Element a at 0x24d955c0948> {'href': 'https://www.python.org/'}\n",
      "<Element a at 0x24d955c0ac8> {'href': '#'}\n",
      "<Element a at 0x24d955c0bc8> {'href': 'copyright.html'}\n",
      "<Element a at 0x24d955c0cc8> {'href': 'https://www.python.org/psf/donations/'}\n",
      "<Element a at 0x24d955c0dc8> {'href': 'bugs.html'}\n",
      "<Element a at 0x24d955c0ec8> {'href': 'http://sphinx.pocoo.org/'}\n"
     ]
    }
   ],
   "source": [
    "for element in root.iter(\"a\"):\n",
    "    print(element, element.attrib)"
   ]
  },
  {
   "cell_type": "code",
   "execution_count": null,
   "metadata": {},
   "outputs": [],
   "source": []
  },
  {
   "cell_type": "code",
   "execution_count": null,
   "metadata": {},
   "outputs": [],
   "source": []
  }
 ],
 "metadata": {
  "kernelspec": {
   "display_name": "Python 3",
   "language": "python",
   "name": "python3"
  },
  "language_info": {
   "codemirror_mode": {
    "name": "ipython",
    "version": 3
   },
   "file_extension": ".py",
   "mimetype": "text/x-python",
   "name": "python",
   "nbconvert_exporter": "python",
   "pygments_lexer": "ipython3",
   "version": "3.6.5"
  }
 },
 "nbformat": 4,
 "nbformat_minor": 2
}
