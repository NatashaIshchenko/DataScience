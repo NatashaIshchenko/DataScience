{
 "cells": [
  {
   "cell_type": "code",
   "execution_count": 62,
   "metadata": {},
   "outputs": [],
   "source": [
    "import numpy as np"
   ]
  },
  {
   "cell_type": "code",
   "execution_count": 63,
   "metadata": {},
   "outputs": [],
   "source": [
    "# Мы погуляли в фруктовом саду и собрали следующие данные про несколько обнаруженных там фруктов:\n",
    "\n",
    "#    желтизна  симметричность   это груша?\n",
    "    \n",
    "# 1     1        0.3             да\n",
    "# 2     0.4      0.5             да\n",
    "# 3     0.7      0.8             нет\n",
    "\n",
    "# Пусть у нас есть перцептрон с весами (0, 0) и смещением 0. \n",
    "# Обучите его на приведённых данных различать груши и не груши (пока не надо обучать до сходимости: \n",
    "# просто примените обучающее правило последовательно по одному разу на каждом примере"
   ]
  },
  {
   "cell_type": "code",
   "execution_count": 64,
   "metadata": {},
   "outputs": [],
   "source": [
    "w = np.array([0, 0, 0])\n",
    "x = np.array(\n",
    "            [[1, 1, 0.3],\n",
    "            [1, 0.4, 0.5],\n",
    "            [1, 0.7, 0.8]])\n",
    "y = np.array([1, 1, 0])"
   ]
  },
  {
   "cell_type": "code",
   "execution_count": 65,
   "metadata": {},
   "outputs": [],
   "source": [
    "def activation_func(sum):\n",
    "    if (sum > 0):\n",
    "        return 1\n",
    "    else:\n",
    "        return 0"
   ]
  },
  {
   "cell_type": "code",
   "execution_count": 66,
   "metadata": {
    "scrolled": false
   },
   "outputs": [
    {
     "name": "stdout",
     "output_type": "stream",
     "text": [
      "#  1\n",
      "w =   [1.  1.  0.3]\n",
      "w =   [1.  1.  0.3]\n",
      "w =   [ 0.   0.3 -0.5]\n",
      "#  2\n",
      "w =   [ 0.   0.3 -0.5]\n",
      "w =   [1.  0.7 0. ]\n",
      "w =   [ 0.00000000e+00  1.11022302e-16 -8.00000000e-01]\n",
      "#  3\n",
      "w =   [ 1.   1.  -0.5]\n",
      "w =   [ 1.   1.  -0.5]\n",
      "w =   [ 0.   0.3 -1.3]\n",
      "#  4\n",
      "w =   [ 1.   1.3 -1. ]\n",
      "w =   [ 1.   1.3 -1. ]\n",
      "w =   [ 0.   0.6 -1.8]\n",
      "#  5\n",
      "w =   [ 0.   0.6 -1.8]\n",
      "w =   [ 1.   1.  -1.3]\n",
      "w =   [ 0.   0.3 -2.1]\n",
      "#  6\n",
      "w =   [ 1.   1.3 -1.8]\n",
      "w =   [ 1.   1.3 -1.8]\n",
      "w =   [ 0.   0.6 -2.6]\n",
      "#  7\n",
      "w =   [ 1.   1.6 -2.3]\n",
      "w =   [ 1.   1.6 -2.3]\n",
      "w =   [ 0.   0.9 -3.1]\n",
      "#  8\n",
      "w =   [ 1.   1.9 -2.8]\n",
      "w =   [ 1.   1.9 -2.8]\n",
      "w =   [ 0.   1.2 -3.6]\n",
      "#  9\n",
      "w =   [ 0.   1.2 -3.6]\n",
      "w =   [ 1.   1.6 -3.1]\n",
      "w =   [ 1.   1.6 -3.1]\n",
      "#  10\n",
      "w =   [ 1.   1.6 -3.1]\n",
      "w =   [ 1.   1.6 -3.1]\n",
      "w =   [ 1.   1.6 -3.1]\n"
     ]
    }
   ],
   "source": [
    "for i in range(10):\n",
    "    print('# ', i+1)\n",
    "    for ind, ex in enumerate(x):\n",
    "        sum = np.sum(w*ex)\n",
    "        dw = (y[ind]-activation_func(sum))*ex\n",
    "        w = w + dw\n",
    "        print(\"w =  \", w)"
   ]
  },
  {
   "cell_type": "code",
   "execution_count": null,
   "metadata": {},
   "outputs": [],
   "source": []
  },
  {
   "cell_type": "code",
   "execution_count": null,
   "metadata": {},
   "outputs": [],
   "source": []
  },
  {
   "cell_type": "code",
   "execution_count": null,
   "metadata": {},
   "outputs": [],
   "source": []
  },
  {
   "cell_type": "code",
   "execution_count": null,
   "metadata": {},
   "outputs": [],
   "source": []
  }
 ],
 "metadata": {
  "kernelspec": {
   "display_name": "Python 3",
   "language": "python",
   "name": "python3"
  },
  "language_info": {
   "codemirror_mode": {
    "name": "ipython",
    "version": 3
   },
   "file_extension": ".py",
   "mimetype": "text/x-python",
   "name": "python",
   "nbconvert_exporter": "python",
   "pygments_lexer": "ipython3",
   "version": "3.6.5"
  }
 },
 "nbformat": 4,
 "nbformat_minor": 2
}
